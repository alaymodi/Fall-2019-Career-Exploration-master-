{
 "cells": [
  {
   "cell_type": "markdown",
   "metadata": {},
   "source": [
    "# Intermediate Project - SAAS Career Exploration - Part 1\n",
    "\n",
    "For this project, you will be using the tools that you have learned so far on a real data science problem. You will be cleaning and analyzing a dataset to answer a research question, something that you will be doing for your entire career if you continue down this path.\n",
    "\n",
    "This project will be done **in groups**. Modern research is collaborative, so get used to it! If you are having trouble finding a partner, please contact your committee director or post on the Career-Exploration Slack channel.\n",
    "\n",
    "The final product for this project will be a statistical model that answers a question posed about the data, in addition to a short description about how your model works and its limitations.\n",
    "\n",
    "## 1. Picking a Dataset\n",
    "\n",
    "You may pick from the following datasets:\n",
    "\n",
    "### US Census Bureau - 2015 American Community Survey\n",
    "\n",
    "https://www.kaggle.com/muonneutrino/us-census-demographic-data\n",
    "\n",
    "This dataset gives demographic information about the US, indexed by census tract. \n",
    "\n",
    "You may enjoy this dataset if you:\n",
    "* are interested in social science\n",
    "* follow politics\n",
    "* are a \"spatial\" thinker\n",
    "\n",
    "### BoardGameGeek - Board Game Dataset\n",
    "\n",
    "https://www.kaggle.com/mrpantherson/board-game-data\n",
    "\n",
    "This dataset gives information on the top 5000 board games, as rated by BoardGameGeek, the gold standard rating site for tabletop gaming enthusiasts.\n",
    "\n",
    "You may enjoy this dataset if you:\n",
    "* play board games\n",
    "* like reviewing things (e.g. Yelp)\n",
    "\n",
    "The meaning of the columns:\n",
    "* rank - The overall ranking of the game\n",
    "* bgg_url - The link to the game's page on the BoardGameGeek website\n",
    "* game_id - A unique identifier number for the game\n",
    "* names - The name of the game\n",
    "* min_players - The minimum number of players required to play the game\n",
    "* max_players - The maximum number of players that can play the game\n",
    "* avg_time - The average time the game takes to play\n",
    "* min_time - The minimum time the game takes to play\n",
    "* max_time - The maximum time the game takes to play\n",
    "* year - The year the game was released\n",
    "* avg_rating - The average rating of the game among all site users\n",
    "* geek_rating - The average rating of the game among \"elite\" users\n",
    "* num_votes - The number of times the game has been rated\n",
    "* image_url - URL of an image of the game\n",
    "* age - Minimum recommended age for the game\n",
    "* mechanic - List of mechanics the game has\n",
    "* owned - How many people on BoardGameGeek say they have the game\n",
    "* category - List of genres the game is in\n",
    "* designer - Who designed the game\n",
    "* weight - How complex the game is, on a scale of 1-5\n",
    "\n",
    "### Cortez et al. - Wine Dataset (Vinho Verde)\n",
    "\n",
    "https://www.kaggle.com/uciml/red-wine-quality-cortez-et-al-2009\n",
    "\n",
    "A dataset recording sensory and chemical attributes of wines, along with ratings given to each of them.\n",
    "\n",
    "You may enjoy this dataset if you:\n",
    "\n",
    "* are suspicious of the legitimacy of wine ratings\n",
    "* are interested in chemistry\n",
    "* day-drink\n",
    "\n",
    "<span style=\"color:blue\"> Pick one of these datasets and uncomment the corresponding `pd.read_csv` command.</span>\n"
   ]
  },
  {
   "cell_type": "code",
   "execution_count": null,
   "metadata": {
    "collapsed": false
   },
   "outputs": [],
   "source": [
    "import matplotlib.pyplot as plt\n",
    "%matplotlib inline\n",
    "import random\n",
    "import numpy as np\n",
    "import pandas as pd\n",
    "\n",
    "# census = pd.read_csv(\"data/acs2015_census_tract_data.csv\")\n",
    "# games  = pd.read_csv(\"data/bgg_db_1806.csv\")\n",
    "# wines  = pd.read_csv(\"data/winequality-red.csv\")"
   ]
  },
  {
   "cell_type": "markdown",
   "metadata": {},
   "source": [
    "## 2. Exploratory Data Analysis (EDA)\n",
    "\n",
    "When you first start working with a dataset, it is often a good idea to just play around with the data to get an idea of what you're working with. This can help you make decisions about which parts of your data may be more useful than others, and also give us a basis for sanity checks later on when our code becomes more complicated. For example, in the the wines dataset we may see that the \"quality\" feature only ranges from 3 to 8, so if our model predicts a quality of 73 then we know there's something wrong!"
   ]
  },
  {
   "cell_type": "markdown",
   "metadata": {},
   "source": [
    "### 2.1. - df.head()\n",
    "\n",
    "One easy way to see what your dataset looks like is by using the `.head()` function, which will display the first five rows of your dataframe. Remember to replace `df` with the name of your dataset!"
   ]
  },
  {
   "cell_type": "code",
   "execution_count": null,
   "metadata": {
    "collapsed": false
   },
   "outputs": [],
   "source": [
    "# Use the .head() function on your dataset\n",
    "# YOUR CODE HERE\n",
    "\n"
   ]
  },
  {
   "cell_type": "markdown",
   "metadata": {},
   "source": [
    "### 2.2. - df.info() and df.describe()\n",
    "\n",
    "Although the `.head()` function is a convenient way to peek at your dataset, it's important to remember that it only gives you the first few rows. Especially in cases when you're trying to read data from some poorly-formatted csv, it's not uncommon for everything to be fine in the first few rows of your data (so that the `.head()` output looks normal) but then at some point everything turns into `NaN`s. In order to avoid this kind of problem, pandas has other functions that let you look at your data from a broader perspective. The `.info()` function will give you information about what kind of data each of your columns contains, and the `.describe()` function will give you summary statistics for each column.<span style=\"color:blue\"> Try them out!</span>"
   ]
  },
  {
   "cell_type": "code",
   "execution_count": null,
   "metadata": {
    "collapsed": false
   },
   "outputs": [],
   "source": [
    "# Use the .info() function on your dataset\n",
    "# YOUR CODE HERE\n",
    "\n"
   ]
  },
  {
   "cell_type": "code",
   "execution_count": null,
   "metadata": {
    "collapsed": false
   },
   "outputs": [],
   "source": [
    "# Use the .describe() function on your dataset\n",
    "# YOUR CODE HERE\n",
    "\n"
   ]
  },
  {
   "cell_type": "markdown",
   "metadata": {},
   "source": [
    "### 2.3. More data-specific analysis\n",
    "\n",
    "After running the above functions, you have some general information about what your data looks like, so you can start running analyses that are more specific to the dataset you're working with. <span style=\"color:blue\">For these parts, pick two quantitative columns of your data - one that you're interested in predicting, which I will call $y$, and one that you think will be predictive of $y$, which I will call $x$. After you've selected these columns, filter the rows of your data into two subsets - one where the $x$ value is smaller than the mean $x$ value, and one where the $x$ value is larger than the mean $x$ value.</span>"
   ]
  },
  {
   "cell_type": "code",
   "execution_count": null,
   "metadata": {
    "collapsed": false
   },
   "outputs": [],
   "source": [
    "smaller_x_subset = # YOUR CODE HERE\n",
    "larger_x_subset  = # YOUR CODE HERE"
   ]
  },
  {
   "cell_type": "markdown",
   "metadata": {},
   "source": [
    "Then, print the mean of $y$ in both of these subsets."
   ]
  },
  {
   "cell_type": "code",
   "execution_count": null,
   "metadata": {
    "collapsed": false
   },
   "outputs": [],
   "source": [
    "smaller_x_subset_y_mean = # YOUR CODE HERE\n",
    "larger_x_subset_y_mean  = # YOUR CODE HERE\n",
    "print(\"Mean y in smaller x:\", smaller_x_subset_y_mean, \"Mean y in larger x:\", larger_x_subset_y_mean)"
   ]
  },
  {
   "cell_type": "markdown",
   "metadata": {},
   "source": [
    "Did you find these two means to be far apart? Close together? <span style=\"color:blue\">In words, describe what you found and what you think it shows about the relationship between $x$ and $y$.</span>"
   ]
  },
  {
   "cell_type": "markdown",
   "metadata": {},
   "source": [
    "YOUR ANSWER HERE"
   ]
  },
  {
   "cell_type": "markdown",
   "metadata": {},
   "source": [
    "**BONUS**: If we want to try this analysis with a different pair of columns for $x$ and $y$, it would be good coding practice to define a function for this task instead of copying our previous code and changing the column names. <span style=\"color:blue\"> Try making a function that takes in the names of two columns for $x$ and $y$ and performs the above operations. </span>"
   ]
  },
  {
   "cell_type": "code",
   "execution_count": null,
   "metadata": {
    "collapsed": false
   },
   "outputs": [],
   "source": [
    "def print_subsetted_y_means(df,x_name,y_name):\n",
    "    \"\"\"\n",
    "    Prints the mean of y where x is smaller than the mean of x, and where x is larger than the mean of x.\n",
    "    \n",
    "    df: The dataframe containing our data.\n",
    "    x_name: The name of the x column.\n",
    "    y_name: The name of the y column.\n",
    "    \"\"\"\n",
    "    \n",
    "    # YOUR CODE HERE"
   ]
  },
  {
   "cell_type": "markdown",
   "metadata": {},
   "source": [
    "### 2.4. Creating new features"
   ]
  },
  {
   "cell_type": "markdown",
   "metadata": {},
   "source": [
    "When we get to modeling later in the semester, we often don't just want to use the data as it was given to us; instead, we can transform the data into new **features** which we think may be more useful. For example, suppose we thought that instead of using $x$ to predict $y$, we thought that $x^2$ would be more useful in predicting $y$. <span style=\"color:blue\">Add a new column to your dataframe that contains $x^2$ instead of $x$.</span>"
   ]
  },
  {
   "cell_type": "code",
   "execution_count": null,
   "metadata": {
    "collapsed": false
   },
   "outputs": [],
   "source": [
    "# YOUR CODE HERE\n",
    "\n"
   ]
  },
  {
   "cell_type": "markdown",
   "metadata": {},
   "source": [
    "In addition to polynomial features like $x^2$ above, another common kind of feature is an **indicator variable** which is equal to 1 if some condition is true, and zero otherwise. For example, maybe we now think that the actual value of $x$ doesn't matter; all that's important is whether or not $x$ is greater than its mean. <span style=\"color:blue\"> Add another column to your data that is equal to 0 if $x$ is greater than its mean, and zero otherwise. </span>"
   ]
  },
  {
   "cell_type": "code",
   "execution_count": null,
   "metadata": {
    "collapsed": false
   },
   "outputs": [],
   "source": [
    "# YOUR CODE HERE\n",
    "\n"
   ]
  },
  {
   "cell_type": "markdown",
   "metadata": {},
   "source": [
    "Congratulations, you're now finished with the first checkpoint!"
   ]
  },
  {
   "cell_type": "markdown",
   "metadata": {},
   "source": [
    "## 3. Submission\n",
    "\n",
    "**To submit, first save this file as a pdf by going to the top left and clicking File -> Download as -> PDF via LaTex (.pdf). Then, send the pdf to Prince on slack!**"
   ]
  }
 ],
 "metadata": {
  "hide_input": false,
  "kernelspec": {
   "display_name": "Python 3",
   "language": "python",
   "name": "python3"
  },
  "language_info": {
   "codemirror_mode": {
    "name": "ipython",
    "version": 3
   },
   "file_extension": ".py",
   "mimetype": "text/x-python",
   "name": "python",
   "nbconvert_exporter": "python",
   "pygments_lexer": "ipython3",
   "version": "3.7.1"
  },
  "toc": {
   "nav_menu": {},
   "number_sections": false,
   "sideBar": true,
   "skip_h1_title": false,
   "toc_cell": false,
   "toc_position": {},
   "toc_section_display": "block",
   "toc_window_display": false
  }
 },
 "nbformat": 4,
 "nbformat_minor": 2
}
