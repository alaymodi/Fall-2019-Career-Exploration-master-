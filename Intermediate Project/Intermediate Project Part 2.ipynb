{
 "cells": [
  {
   "cell_type": "markdown",
   "metadata": {},
   "source": [
    "# Intermediate Project - SAAS Career Exploration - Part 2\n",
    "\n",
    "For this project, you will be using the tools that you have learned so far on a real data science problem. You will be cleaning and analyzing a dataset to answer a research question, something that you will be doing for your entire career if you continue down this path.\n",
    "\n",
    "This project will be done **in groups**. Modern research is collaborative, so get used to it! If you are having trouble finding a partner, please contact your committee director or post on the Career-Exploration Slack channel.\n",
    "\n",
    "The final product for this project will be a statistical model that answers a question posed about the data, in addition to a short description about how your model works and its limitations."
   ]
  },
  {
   "cell_type": "code",
   "execution_count": null,
   "metadata": {
    "ExecuteTime": {
     "end_time": "2019-10-13T22:53:50.197290",
     "start_time": "2019-10-13T22:53:47.642304Z"
    },
    "collapsed": true
   },
   "outputs": [],
   "source": [
    "# Setup code\n",
    "import seaborn as sns #; sns.set()\n",
    "import csv\n",
    "import numpy as np\n",
    "import pandas as pd\n",
    "import matplotlib.pyplot as plt\n",
    "import zipfile\n",
    "from pathlib import Path\n",
    "\n",
    "%matplotlib inline\n",
    "plt.rcParams['figure.figsize'] = (16,8)\n",
    "plt.rcParams['figure.dpi'] = 150\n",
    "sns.set()\n",
    "\n",
    "from IPython.display import display, Latex, Markdown\n",
    "\n",
    "# census = pd.read_csv(\"data/acs2015_census_tract_data.csv\")\n",
    "# games  = pd.read_csv(\"data/bgg_db_1806.csv\")\n",
    "# wines  = pd.read_csv(\"data/winequality-red.csv\")"
   ]
  },
  {
   "cell_type": "markdown",
   "metadata": {},
   "source": [
    "## 1. Plotting\n",
    "\n",
    "In this checkpoint, let's practice making some plots! For all of these parts, try to make your graphs presentation-ready; add a title, axis labels, and a legend if necessary. Someone else should be able to look at your graph and understand what it's saying without you explaining what's going on! **Also, make sure you make at least one plot using matplotlib and at least one plot using seaborn.**\n",
    "\n",
    "### 1.1. Scatterplots\n",
    "\n",
    "First, pick an $x$ and $y$ variable like last time where you think that $x$ may be able to predict $y$ - you can use the same variables as from the previous part, or try out new ones. <span style=\"color:blue\"> Let's first try making a simple scatterplot of $x$ and $y$."
   ]
  },
  {
   "cell_type": "code",
   "execution_count": null,
   "metadata": {
    "collapsed": true
   },
   "outputs": [],
   "source": [
    "# YOUR CODE HERE\n",
    "\n"
   ]
  },
  {
   "cell_type": "markdown",
   "metadata": {},
   "source": [
    "Now, let's make it a little more complicated! <span style=\"color:blue\"> Pick one of the other variables in your dataset and color the points in your scatterplot based on the value of that variable. </span>In seaborn, you can do this using the `hue` argument, and in matplotlib, you can use [colormaps](https://stackoverflow.com/questions/17682216/scatter-plot-and-color-mapping-in-python)."
   ]
  },
  {
   "cell_type": "code",
   "execution_count": null,
   "metadata": {
    "collapsed": true
   },
   "outputs": [],
   "source": [
    "# YOUR CODE HERE\n",
    "\n"
   ]
  },
  {
   "cell_type": "markdown",
   "metadata": {},
   "source": [
    "What is the relationship between $x$,$y$, and the third variable you selected? <span style=\"color:blue\">Write a short summary in words about what you see in your scatterplot."
   ]
  },
  {
   "cell_type": "markdown",
   "metadata": {},
   "source": [
    "YOUR RESPONSE HERE"
   ]
  },
  {
   "cell_type": "markdown",
   "metadata": {},
   "source": [
    "### 1.2. Histograms\n",
    "\n",
    "<span style=\"color:blue\">First, pick one of the variables in your dataset and make a histogram of that variable."
   ]
  },
  {
   "cell_type": "code",
   "execution_count": null,
   "metadata": {
    "collapsed": true
   },
   "outputs": [],
   "source": [
    "# YOUR CODE HERE\n",
    "\n"
   ]
  },
  {
   "cell_type": "markdown",
   "metadata": {},
   "source": [
    "From the above histogram, you can see the distribution of the variable across the whole dataset. However, maybe we want to see how the distribution varies over different parts of the dataset - e.g. maybe the distribution of peoples' ages is different from one state to another. <span style=\"color:blue\">Break your dataset into (at least) two subsets based on one of your variables (for example, you could filter based on whether or not $x$ is above its mean like last time) and create histograms for each of those parts."
   ]
  },
  {
   "cell_type": "code",
   "execution_count": null,
   "metadata": {
    "collapsed": true
   },
   "outputs": [],
   "source": [
    "# YOUR CODE HERE\n",
    "\n"
   ]
  },
  {
   "cell_type": "markdown",
   "metadata": {},
   "source": [
    "How are your histograms for each subset different? <span style=\"color:blue\">Write a short summary in words about what you see in your histograms."
   ]
  },
  {
   "cell_type": "markdown",
   "metadata": {},
   "source": [
    "YOUR RESPONSE HERE"
   ]
  },
  {
   "cell_type": "markdown",
   "metadata": {},
   "source": [
    "### 1.3. Your turn!\n",
    "\n",
    "<span style=\"color:blue\">Make one more graph of your own choosing out of any of the other kinds of graphs from the lecture. </span>Remember to add a title, axis labels, and a legend if necessary to make your plot readable!"
   ]
  },
  {
   "cell_type": "code",
   "execution_count": null,
   "metadata": {
    "collapsed": true
   },
   "outputs": [],
   "source": [
    "# YOUR CODE HERE\n",
    "\n"
   ]
  },
  {
   "cell_type": "markdown",
   "metadata": {},
   "source": [
    "For this part as well, add your own interpretation about what you see in your graph."
   ]
  },
  {
   "cell_type": "markdown",
   "metadata": {},
   "source": [
    "YOUR RESPONSE HERE"
   ]
  },
  {
   "cell_type": "markdown",
   "metadata": {},
   "source": [
    "## 2. Submission\n",
    "\n",
    "**To submit, first save this file as an HTML file by going to the top left and clicking File -> Download as -> HTML (.html). Then, rename the file so that your and your partner's full name are in the filename. Finally, send the file to Prince on slack!**"
   ]
  }
 ],
 "metadata": {
  "hide_input": false,
  "kernelspec": {
   "display_name": "Python 3",
   "language": "python",
   "name": "python3"
  },
  "language_info": {
   "codemirror_mode": {
    "name": "ipython",
    "version": 3
   },
   "file_extension": ".py",
   "mimetype": "text/x-python",
   "name": "python",
   "nbconvert_exporter": "python",
   "pygments_lexer": "ipython3",
   "version": "3.7.1"
  },
  "toc": {
   "nav_menu": {},
   "number_sections": false,
   "sideBar": true,
   "skip_h1_title": false,
   "toc_cell": false,
   "toc_position": {},
   "toc_section_display": "block",
   "toc_window_display": false
  }
 },
 "nbformat": 4,
 "nbformat_minor": 2
}
