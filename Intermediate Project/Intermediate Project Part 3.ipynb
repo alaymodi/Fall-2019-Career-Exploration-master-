{
 "cells": [
  {
   "cell_type": "markdown",
   "metadata": {},
   "source": [
    "# Intermediate Project - SAAS Career Exploration - Part 3\n",
    "\n",
    "This will be the last part of this project! Since this is a bit longer than the previous parts, it will be due in **two weeks** instead of one, so the due date will be **November 3rd**."
   ]
  },
  {
   "cell_type": "code",
   "execution_count": null,
   "metadata": {
    "ExecuteTime": {
     "end_time": "2019-10-13T22:53:50.197290",
     "start_time": "2019-10-13T22:53:47.642304Z"
    },
    "collapsed": false
   },
   "outputs": [],
   "source": [
    "# Setup code\n",
    "import seaborn as sns #; sns.set()\n",
    "import csv\n",
    "import numpy as np\n",
    "import pandas as pd\n",
    "import matplotlib.pyplot as plt\n",
    "import zipfile\n",
    "from pathlib import Path\n",
    "from sklearn.linear_model import LinearRegression\n",
    "\n",
    "%matplotlib inline\n",
    "plt.rcParams['figure.figsize'] = (16,8)\n",
    "plt.rcParams['figure.dpi'] = 150\n",
    "sns.set()\n",
    "\n",
    "from IPython.display import display, Latex, Markdown\n",
    "\n",
    "# census = pd.read_csv(\"data/acs2015_census_tract_data.csv\")\n",
    "# games  = pd.read_csv(\"data/bgg_db_1806.csv\")\n",
    "# wines  = pd.read_csv(\"data/winequality-red.csv\")"
   ]
  },
  {
   "cell_type": "markdown",
   "metadata": {},
   "source": [
    "## 1. Linear models\n",
    "\n",
    "In this last part, we are going to create linear models to predict various parts of your data. First, as in the previous parts, pick a quantititative variable $y$ which you would like to predict and another quantitative variable $x$ which you think will be predictive of $y$. \n",
    "\n",
    "### 1.1. Preliminary plotting\n",
    "\n",
    "Before we actually fit a linear model, we should make sure that there is a somewhat linear relationship between our two variables. <span style=\"color:blue\"> Plot a scatterplot of $x$ and $y$ and verify that the relationship looks somewhat linear. </span> If it looks like there is some relationship but it is nonlinear, you can try [straightening the data](https://rstudio-pubs-static.s3.amazonaws.com/199830_f5e58983719e4ffc8d60fd277f9352e5.html) by applying transformations such as $x^2$ or $\\sqrt{x}$ to the axes; alternatively, you can just try to find a different $x$ or $y$ variable."
   ]
  },
  {
   "cell_type": "code",
   "execution_count": null,
   "metadata": {
    "collapsed": false
   },
   "outputs": [],
   "source": [
    "# YOUR CODE HERE\n",
    "\n"
   ]
  },
  {
   "cell_type": "markdown",
   "metadata": {},
   "source": [
    "### 1.2. Creating the model"
   ]
  },
  {
   "cell_type": "markdown",
   "metadata": {},
   "source": [
    "<span style=\"color:blue\">Next, use sklearn to fit a linear model of $y$ on $x$. </span> Remember that in order to do this, you'll need to first create variables `X` and `Y` to feed into the `linear_model.fit` function."
   ]
  },
  {
   "cell_type": "code",
   "execution_count": null,
   "metadata": {
    "collapsed": false
   },
   "outputs": [],
   "source": [
    "# YOUR CODE HERE\n",
    "\n"
   ]
  },
  {
   "cell_type": "markdown",
   "metadata": {},
   "source": [
    "Now that we have our linear model, <span style=\"color:blue\">add the line of best fit to the scatterplot from above</span>. If you want some additional practice, try doing this from scratch instead of copying the function from the lecture notes."
   ]
  },
  {
   "cell_type": "code",
   "execution_count": null,
   "metadata": {
    "collapsed": false
   },
   "outputs": [],
   "source": [
    "# YOUR CODE HERE\n",
    "\n"
   ]
  },
  {
   "cell_type": "markdown",
   "metadata": {},
   "source": [
    "### 1.3. Assessing the model"
   ]
  },
  {
   "cell_type": "markdown",
   "metadata": {},
   "source": [
    "Next, let's assess the validity of our model.<span style=\"color:blue\"> Find the $R^2$ value and write an explanation of what that value means.</span>"
   ]
  },
  {
   "cell_type": "code",
   "execution_count": null,
   "metadata": {
    "collapsed": false
   },
   "outputs": [],
   "source": [
    "# YOUR CODE HERE\n",
    "\n"
   ]
  },
  {
   "cell_type": "markdown",
   "metadata": {},
   "source": [
    "YOUR EXPLANATION HERE"
   ]
  },
  {
   "cell_type": "markdown",
   "metadata": {},
   "source": [
    "Next,<span style=\"color:blue\"> add an additional column to your dataframe with the residuals from your linear model, and make a plot of the residuals against $x$.</span> (Recall that the $i$th residual is given by $y_i - \\hat y_i$, where $\\hat y_i$ is your predicted value for $y_i$.)"
   ]
  },
  {
   "cell_type": "code",
   "execution_count": null,
   "metadata": {
    "collapsed": false
   },
   "outputs": [],
   "source": [
    "# YOUR CODE HERE\n",
    "\n"
   ]
  },
  {
   "cell_type": "markdown",
   "metadata": {},
   "source": [
    "Hopefully, this plot just looks like random noise. <span style=\"color:blue\">Does it? If not, what are the patterns you see and why do you think they appear?</span>"
   ]
  },
  {
   "cell_type": "markdown",
   "metadata": {},
   "source": [
    "YOUR EXPLANATION HERE"
   ]
  },
  {
   "cell_type": "markdown",
   "metadata": {},
   "source": [
    "### 1.4. MSE Breakdown\n",
    "\n",
    "Another common metric used for evaluating linear models is the **mean squared error** or MSE. This is just the average of all the squared errors: \n",
    "$$MSE := \\frac{1}{n}\\sum_{i=1}^n \\left(y_i-\\hat y_i\\right)^2$$\n",
    "\n",
    "Note that you can compute this by taking the average of the squares of the residuals.\n",
    "\n",
    "First, find the MSE of your linear model on the whole dataset."
   ]
  },
  {
   "cell_type": "code",
   "execution_count": null,
   "metadata": {
    "collapsed": false
   },
   "outputs": [],
   "source": [
    "# YOUR CODE HERE\n",
    "\n"
   ]
  },
  {
   "cell_type": "markdown",
   "metadata": {},
   "source": [
    "Now, we want to see if our model is doing better or worse on different parts of our dataset. Pick a categorical variable $z$ in the dataset that you think is related to $y$. If you don't have any categorical variables you think are relevant, then you could pick some quantitative variable (other than $x$ and $y$) and split your data up into \"categories\" based on whether or not that variable is greater than its mean (like we've done in the previous parts). In this case, make sure you add an indicator variable column to your dataframe - I'll refer to this column as $z$.\n",
    "\n",
    "After selecting $z$, find the MSE for each possible value of $z$, i.e. for each possible category of your data. To do this, find the average squared residual in each category."
   ]
  },
  {
   "cell_type": "code",
   "execution_count": null,
   "metadata": {
    "collapsed": false
   },
   "outputs": [],
   "source": [
    "# YOUR CODE HERE\n",
    "\n"
   ]
  },
  {
   "cell_type": "markdown",
   "metadata": {},
   "source": [
    "Are some categories much better or worse than others? Why do you think this might be the case? To answer this, feel free to poke around a little bit more in your data - for example, you could try making plots of $x$ vs $y$ in each category."
   ]
  },
  {
   "cell_type": "markdown",
   "metadata": {},
   "source": [
    "YOUR RESPONSE HERE"
   ]
  },
  {
   "cell_type": "markdown",
   "metadata": {},
   "source": [
    "## 2. Submission\n",
    "\n",
    "**To submit, first save this file as an HTML file by going to the top left and clicking File -> Download as -> HTML (.html). Then, rename the file so that your and your partner's full name are in the filename. Finally, send the file to Prince on slack!**"
   ]
  }
 ],
 "metadata": {
  "hide_input": false,
  "kernelspec": {
   "display_name": "Python 3",
   "language": "python",
   "name": "python3"
  },
  "language_info": {
   "codemirror_mode": {
    "name": "ipython",
    "version": 3
   },
   "file_extension": ".py",
   "mimetype": "text/x-python",
   "name": "python",
   "nbconvert_exporter": "python",
   "pygments_lexer": "ipython3",
   "version": "3.7.1"
  },
  "toc": {
   "nav_menu": {},
   "number_sections": false,
   "sideBar": true,
   "skip_h1_title": false,
   "toc_cell": false,
   "toc_position": {},
   "toc_section_display": "block",
   "toc_window_display": false
  }
 },
 "nbformat": 4,
 "nbformat_minor": 2
}
